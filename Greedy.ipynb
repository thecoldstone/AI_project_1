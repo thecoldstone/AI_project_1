{
 "cells": [
  {
   "cell_type": "code",
   "execution_count": 177,
   "metadata": {},
   "outputs": [],
   "source": [
    "import random\n",
    "import copy\n",
    "import math\n",
    "string = \"\"\"1\n",
    "10\n",
    "1 5 0 7 2 7 3 7 3 8 0 8\n",
    "2 9 2 0 3 0 3 7 2 7 2 6 2 5 2 4 2 2 2 1 \n",
    "3 5 0 6 1 6 2 6 2 7 0 7 \n",
    "4 4 1 5 2 5 2 6 1 6 \n",
    "5 4 1 4 2 4 2 5 1 5 \n",
    "6 5 1 2 2 2 2 4 1 4 1 3 \n",
    "7 6 0 3 1 3 1 4 1 5 1 6 0 6 \n",
    "8 4 0 2 1 2 1 3 0 3 \n",
    "9 5 0 1 2 1 2 2 1 2 0 2 \n",
    "10 4 0 0 2 0 2 1 0 1\"\"\"\n",
    "\n",
    "def convert(string): #dicionario em q keys são retangulos e values vertices\n",
    "    ret = {}\n",
    "    for line in string.split('\\n')[2:]:\n",
    "        elements = list(map(int, line.split()))\n",
    "        ret[elements[0]] = [(elements[i], elements[i + 1]) for i in range(2, elements[1] * 2 + 1, 2)]\n",
    "    return ret\n",
    "\n",
    "def encode(data): #id individual aos vértices\n",
    "    return {v : k for k, v in dict(enumerate(set(sum(data.values(), [])))).items()}\n",
    "\n",
    "def reverse_dict(data, encoding): #dicionario com vertices como key\n",
    "    ret = {}\n",
    "    for k, V in data.items():\n",
    "        for v in V:\n",
    "            lookup = encoding[v]\n",
    "            if lookup not in ret:\n",
    "                ret[lookup] = []\n",
    "            ret[lookup] += [k]\n",
    "    return ret\n",
    "\n",
    "\n",
    "initial  = convert(string)\n",
    "encoding = encode(initial) #id de cada vértice\n",
    "data     = reverse_dict(initial, encoding)\n",
    "\n",
    "m = (max(data.values()))[0] #nr of rectangles\n",
    "guards = [0] * m #to check if all rect are covered\n",
    "#Greedy\n",
    "def GetMaxLen(data): \n",
    "    return max((len(v) for v in data.values()))\n",
    "\n",
    "def DeleteV(dic, vertice): #remove already guarded rectangles\n",
    "    copia = copy.deepcopy(dic)\n",
    "    vertexR = copia.get(vertice)\n",
    "    del copia[vertice]\n",
    "    for v in copia.values():\n",
    "        for r in vertexR:\n",
    "            if r in v:\n",
    "                v.remove(r)\n",
    "    return copia\n",
    "\n",
    "def Greedy(dic, guards, G, seed, func1, func2): #G is starting point\n",
    "    copia = copy.deepcopy(dic)\n",
    "    guardscp = copy.deepcopy(guards)\n",
    "    Gcp = copy.deepcopy(G)\n",
    "    while sum(guardscp) != m:\n",
    "        maxlen = func1(copia)\n",
    "        vertices = [] #opções que vêem mais vertices não guardados\n",
    "        for v, r in copia.items():\n",
    "            if len(r) == maxlen:\n",
    "                vertices.append(v)\n",
    "        random.seed(seed)\n",
    "        guard = random.choice(vertices)\n",
    "        Gcp += [dict(enumerate(set(sum(initial.values(), []))))[guard]] #para retornar as coordenadas\n",
    "        for r in copia.get(guard):\n",
    "            guardscp[r-1] = 1\n",
    "        copia = func2(copia, guard)    \n",
    "    return Gcp\n",
    "\n",
    "GreedyA = Greedy(data, guards, [], None, GetMaxLen, DeleteV)"
   ]
  },
  {
   "cell_type": "code",
   "execution_count": 192,
   "metadata": {},
   "outputs": [
    {
     "name": "stdout",
     "output_type": "stream",
     "text": [
      "[(1, 4), (2, 7), (2, 1), (1, 3), (2, 5)]\n"
     ]
    }
   ],
   "source": [
    "print(GreedyA)"
   ]
  },
  {
   "cell_type": "code",
   "execution_count": null,
   "metadata": {},
   "outputs": [],
   "source": []
  },
  {
   "cell_type": "code",
   "execution_count": null,
   "metadata": {},
   "outputs": [],
   "source": []
  },
  {
   "cell_type": "code",
   "execution_count": null,
   "metadata": {},
   "outputs": [],
   "source": []
  },
  {
   "cell_type": "code",
   "execution_count": null,
   "metadata": {},
   "outputs": [],
   "source": []
  },
  {
   "cell_type": "code",
   "execution_count": 178,
   "metadata": {},
   "outputs": [],
   "source": [
    "#Iterated local search - hill climbing\n",
    "\n",
    "def SimpleHillClimbing(GreedySol, func1, func2, func3, func4, func5):\n",
    "    current_state = copy.deepcopy(GreedySol)\n",
    "    optimalg = math.ceil(m/3) #optimal number of guards\n",
    "    count = 0\n",
    "    while True:\n",
    "        if len(current_state) == optimalg:\n",
    "            break\n",
    "        elif count > 100:\n",
    "            break\n",
    "        else:\n",
    "            if m <= 500:\n",
    "                neighbor_states = func1(current_state, data, guards, func3, func4, func5)\n",
    "            else:\n",
    "                neighbor_states = func2(current_state, data, guards)\n",
    "            count += 1\n",
    "            best_state = neighbor_states[0]\n",
    "            for state in neighbor_states:\n",
    "                if len(state) < len(best_state):\n",
    "                    best_state = state\n",
    "            if len(best_state) < len(current_state) :\n",
    "                current_state = best_state\n",
    "    return current_state\n",
    "\n",
    "def RandomizedHillClimbing(GreedySol, func1, func2, func3, func4, func5, func6):\n",
    "    current_state = copy.deepcopy(GreedySol)\n",
    "    optimalg = math.ceil(m/3) #optimal number of guards\n",
    "    count = 0\n",
    "    while True:\n",
    "        if len(current_state) == optimalg:\n",
    "            break\n",
    "        elif count > 100:\n",
    "            break\n",
    "        else:\n",
    "            if m <= 500:\n",
    "                neighbor_states = func1(current_state, data, guards, func4, func5, func6)\n",
    "            else:\n",
    "                neighbor_states = func2(current_state, data, guards)\n",
    "            count += 1\n",
    "            current_state = func3(neighbor_states)\n",
    "    return current_state\n",
    "\n",
    "def distributedProbability(neighbor_states): #for randomized Hill Climbing\n",
    "    new_neighbor_states = []\n",
    "    neighbor_states.sort(key=len)\n",
    "    for i in range(len(neighbor_states)):\n",
    "        new_neighbor_states.extend([neighbor_states[i]] * (len(neighbor_states) - i))\n",
    "    return new_neighbor_states[random.randint(0, len(new_neighbor_states) - 1)]\n",
    "\n",
    "#Simulated Annealing\n",
    "\n",
    "def SimulatedAnnealing(GreedySol, func1, func2, func3, func4, func5, func6):\n",
    "    current_state = copy.deepcopy(GreedySol)\n",
    "    optimalg = math.ceil(m/3) #optimal number of guards\n",
    "    t = 1.0\n",
    "    k = 0.995\n",
    "    while t > 0.001:\n",
    "        if len(current_state) == optimalg:\n",
    "            break\n",
    "        if m <= 500:\n",
    "            neighbor_states = func1(current_state, data, guards, func4, func5, func6)\n",
    "        else:\n",
    "            neighbor_states = func2(current_state, data, guards)\n",
    "        proposed_state = random.choice(neighbor_states)\n",
    "        r = random.uniform(0,1)\n",
    "        p = func3(proposed_state, current_state, t)\n",
    "        if p >= r:\n",
    "            current_state = proposed_state\n",
    "        t = t * k\n",
    "    return current_state\n",
    "        \n",
    "\n",
    "def prob(neighbor_state, current_state, t): #acceptance probability function for Simulated Annealing\n",
    "    if len(neighbor_state) < len(current_state):\n",
    "        prob = 1\n",
    "    else:\n",
    "        prob = math.exp(float(-(len(neighbor_state) - len(current_state)) / t))\n",
    "    return prob\n",
    "\n",
    "#Neighbor States\n",
    "\n",
    "# def NeighborStates1(state, dic, guards, func1, func2, func3): #gives lists 3 vertexes short of optimal answers and runs it through greedy\n",
    "#     start = math.ceil(m/3) - 3 \n",
    "#     temp_state = state[:start]\n",
    "#     iteration = 10 # max number of neighbors\n",
    "#     copia = copy.deepcopy(dic)\n",
    "#     guardscopy = copy.deepcopy(guards)\n",
    "#     NS = []\n",
    "#     S = []\n",
    "#     for v in temp_state:\n",
    "#         idV = encoding[v]\n",
    "#         for r in copia.get(idV):\n",
    "#             guardscopy[r-1] = 1\n",
    "#         copia = func1(copia, idV)\n",
    "#     for i in range(iteration):\n",
    "#         S = func2(copia, guardscopy, temp_state, i, func3, func1)\n",
    "#         if S not in NS:\n",
    "#             NS.append(S)\n",
    "#     if len(NS) < iteration: #tenta encontrar novas soluções \n",
    "#         dif = iteration - len(NS)\n",
    "#         for j in range(dif):\n",
    "#             S = func2(copia, guardscopy, temp_state, (iteration + j), func3, func1)\n",
    "#             if S not in NS:\n",
    "#                 NS.append(S)\n",
    "#     return NS\n",
    "\n",
    "def NeighborStates(state, dic, guards, func1, func2, func3): #gives lists 3 vertexes short of optimal answers and runs it through greedy\n",
    "    start = math.ceil(m/3) - 3 \n",
    "    temp_state = random.sample(state, start)\n",
    "    iteration = 10 # max number of neighbors\n",
    "    copia = copy.deepcopy(dic)\n",
    "    guardscopy = copy.deepcopy(guards)\n",
    "    NS = []\n",
    "    S = []\n",
    "    for v in temp_state:\n",
    "        idV = encoding[v]\n",
    "        for r in copia.get(idV):\n",
    "            guardscopy[r-1] = 1\n",
    "        copia = func1(copia, idV)\n",
    "    for i in range(iteration):\n",
    "        S = func2(copia, guardscopy, temp_state, i, func3, func1)\n",
    "        S.sort()\n",
    "        if S not in NS:\n",
    "            NS.append(S)\n",
    "    if len(NS) < iteration: #tenta encontrar novas soluções vizinhas \n",
    "        dif = iteration - len(NS)\n",
    "        for j in range(dif):\n",
    "            S = func2(copia, guardscopy, temp_state, (iteration + j), func3, func1)\n",
    "            S.sort()\n",
    "            if S not in NS:\n",
    "                NS.append(S)\n",
    "    return NS\n",
    "\n",
    "def SimpleNeighborStates(state, dic, guards): #1-flip\n",
    "    n = max(dic.keys()) + 1 #nr of vertices\n",
    "    guardlist = []\n",
    "    iteration = 10\n",
    "    copia = copy.deepcopy(dic)\n",
    "    NS = []\n",
    "    for i in state:\n",
    "        idV = encoding[i]\n",
    "        guardlist += [idV]\n",
    "    nextoptions = []\n",
    "    for i in [x for x in range(n) if x not in guardlist]:\n",
    "        nextoptions += [i]\n",
    "    for i in range(iteration):\n",
    "        sol = copy.deepcopy(guardlist)\n",
    "        nex = copy.deepcopy(nextoptions)\n",
    "        guardscopy = copy.deepcopy(guards)\n",
    "        change = random.choice(sol)\n",
    "        sol.remove(change)\n",
    "        for v in sol:\n",
    "            for r in copia.get(v):\n",
    "                guardscopy[r-1] = 1\n",
    "        while sum(guardscopy) != m:\n",
    "            nexto = random.choice(nex)\n",
    "            nex.remove(nexto)\n",
    "            sol += [nexto]\n",
    "            for r in copia.get(nexto):\n",
    "                guardscopy[r-1] = 1\n",
    "        for i in range(len(sol)):\n",
    "            sol[i] = dict(enumerate(set(sum(initial.values(), []))))[sol[i]]\n",
    "        sol.sort()\n",
    "        if sol not in NS:\n",
    "            NS.append(sol)\n",
    "    return NS\n",
    "        \n",
    "    \n",
    "neighborstates = NeighborStates(GreedyA, data, guards, DeleteV, Greedy, GetMaxLen)\n",
    "sneighborstates = SimpleNeighborStates(GreedyA, data, guards)\n",
    "HillClimbing = SimpleHillClimbing(GreedyA, NeighborStates, SimpleNeighborStates, DeleteV, Greedy, GetMaxLen)\n",
    "RandHillClimbing = RandomizedHillClimbing(GreedyA, NeighborStates, SimpleNeighborStates, distributedProbability, DeleteV, Greedy, GetMaxLen)\n",
    "SimAnneal = SimulatedAnnealing(GreedyA, NeighborStates, SimpleNeighborStates, prob, DeleteV, Greedy, GetMaxLen)"
   ]
  },
  {
   "cell_type": "code",
   "execution_count": 191,
   "metadata": {},
   "outputs": [
    {
     "name": "stdout",
     "output_type": "stream",
     "text": [
      "[[(0, 1), (1, 3), (1, 4), (2, 6), (3, 8)], [(1, 2), (1, 4), (2, 1), (2, 5), (2, 7)], [(1, 2), (1, 4), (2, 1), (2, 6), (2, 7)], [(0, 3), (0, 8), (1, 4), (2, 1), (2, 6)], [(0, 7), (1, 2), (1, 4), (2, 1), (2, 5)], [(0, 2), (1, 4), (2, 0), (2, 6), (3, 7)], [(0, 1), (0, 3), (1, 4), (2, 6), (3, 8)], [(0, 7), (1, 2), (1, 4), (2, 1), (2, 6)]]\n"
     ]
    }
   ],
   "source": [
    "print(neighborstates)"
   ]
  },
  {
   "cell_type": "code",
   "execution_count": 190,
   "metadata": {},
   "outputs": [
    {
     "name": "stdout",
     "output_type": "stream",
     "text": [
      "[[(0, 1), (0, 7), (0, 8), (1, 3), (1, 4), (1, 5), (2, 2), (2, 4), (2, 5), (2, 7), (3, 0)], [(0, 1), (1, 3), (1, 4), (1, 5), (2, 0), (2, 5), (2, 6), (2, 7), (3, 0), (3, 8)], [(0, 7), (0, 8), (1, 3), (1, 4), (2, 0), (2, 1), (2, 5)], [(0, 1), (0, 2), (0, 7), (0, 8), (1, 2), (1, 3), (1, 4), (2, 4), (2, 5), (2, 6), (2, 7), (3, 7), (3, 8)], [(1, 3), (2, 1), (2, 5), (2, 7)], [(1, 3), (1, 4), (1, 5), (2, 1), (2, 7)], [(0, 0), (0, 1), (0, 3), (0, 6), (0, 7), (0, 8), (1, 4), (1, 5), (1, 6), (2, 0), (2, 1), (2, 2), (2, 4), (2, 5), (2, 7), (3, 0), (3, 7), (3, 8)]]\n"
     ]
    }
   ],
   "source": [
    "print(sneighborstates)"
   ]
  },
  {
   "cell_type": "code",
   "execution_count": 187,
   "metadata": {},
   "outputs": [
    {
     "name": "stdout",
     "output_type": "stream",
     "text": [
      "[(0, 1), (1, 3), (1, 5), (2, 7)]\n"
     ]
    }
   ],
   "source": [
    "print(SimAnneal)"
   ]
  },
  {
   "cell_type": "code",
   "execution_count": 188,
   "metadata": {},
   "outputs": [
    {
     "name": "stdout",
     "output_type": "stream",
     "text": [
      "[(1, 2), (1, 5), (2, 1), (2, 7)]\n"
     ]
    }
   ],
   "source": [
    "print(RandHillClimbing)"
   ]
  },
  {
   "cell_type": "code",
   "execution_count": 189,
   "metadata": {},
   "outputs": [
    {
     "name": "stdout",
     "output_type": "stream",
     "text": [
      "[(0, 1), (1, 3), (2, 5), (2, 7)]\n"
     ]
    }
   ],
   "source": [
    "print(HillClimbing)"
   ]
  },
  {
   "cell_type": "code",
   "execution_count": 184,
   "metadata": {
    "scrolled": true
   },
   "outputs": [],
   "source": [
    "#DFS with propagation\n",
    "\n",
    "n = max(data.keys()) + 1 #nr of vertices\n",
    "\n",
    "guardscheck = [0] * m\n",
    "guard = [''] * n #for propagation\n",
    "\n",
    "graph = {k: list(range(n)) for k in range(n)}\n",
    "for k, v in graph.items():\n",
    "    v.remove(k)\n",
    "\n",
    "graphcp = copy.deepcopy(graph)\n",
    "datacp = copy.deepcopy(data)\n",
    "initcp = copy.deepcopy(initial)\n",
    "\n",
    "def dfs(graphcp, node, visited, G, guard, guardscheck, datacp, initcp, func1, func2):\n",
    "    if sum(guardscheck) == m:\n",
    "        return G\n",
    "    if node == '':\n",
    "        node = random.choice(range(n))\n",
    "    if node not in visited:\n",
    "        guard[node] = 1      \n",
    "        for r in data.get(node):\n",
    "            guardscheck[r-1] = 1\n",
    "        visited.append(node)\n",
    "        G += [dict(enumerate(set(sum(initial.values(), []))))[node]]\n",
    "        if sum(guardscheck) != m:\n",
    "            for i in [x for x in range(n) if x not in visited]:\n",
    "                if datacp.get(node) == datacp.get(i): #remove vertices that see the same rectangles\n",
    "                    guard[i] = 0\n",
    "                    visited.append(i)\n",
    "                    coord = dict(enumerate(set(sum(initial.values(), []))))[i]\n",
    "                    for k, v in initcp.items(): #propagação \n",
    "                        if coord in v:\n",
    "                            initcp[k].remove(coord)\n",
    "                        if len(initcp[k]) == 1:\n",
    "                            idV = encoding[initcp[k][0]]\n",
    "                            if idV not in visited:\n",
    "                                guard[idV] = 1\n",
    "                                for r in data.get(idV):\n",
    "                                    guardscheck[r-1] = 1\n",
    "                                visited.append(idV)\n",
    "                                G += [dict(enumerate(set(sum(initial.values(), []))))[idV]]\n",
    "                                datacp = func1(datacp, idV)\n",
    "                    for j in range(n):\n",
    "                        if j != i and (i in graphcp[j]):\n",
    "                            graphcp[j].remove(i)\n",
    "        datacp = func1(datacp, node)\n",
    "    while sum(guardscheck) != m:\n",
    "        maxlen = func2(datacp)\n",
    "        best_options = []\n",
    "        for i in range(maxlen + 1):\n",
    "            for j in graphcp[node] and datacp.keys():\n",
    "                if len(datacp.get(j)) == maxlen - i:\n",
    "                    best_options.append(j)       \n",
    "        for i in best_options:\n",
    "            if i in visited: \n",
    "                continue\n",
    "            dfs(graphcp, i, visited, G, guard, guardscheck, datacp, initcp, func1, func2)\n",
    "    return G\n",
    "\n",
    "DFS = dfs(graphcp, '', [], [], guard, guardscheck, datacp, initcp, DeleteV, GetMaxLen)\n"
   ]
  },
  {
   "cell_type": "code",
   "execution_count": 183,
   "metadata": {},
   "outputs": [
    {
     "name": "stdout",
     "output_type": "stream",
     "text": [
      "[(1, 6), (2, 4), (2, 1), (0, 7), (1, 2)]\n"
     ]
    }
   ],
   "source": [
    "print(DFS)"
   ]
  },
  {
   "cell_type": "code",
   "execution_count": null,
   "metadata": {},
   "outputs": [],
   "source": []
  },
  {
   "cell_type": "code",
   "execution_count": null,
   "metadata": {},
   "outputs": [],
   "source": []
  },
  {
   "cell_type": "code",
   "execution_count": null,
   "metadata": {},
   "outputs": [],
   "source": []
  },
  {
   "cell_type": "code",
   "execution_count": null,
   "metadata": {},
   "outputs": [],
   "source": []
  },
  {
   "cell_type": "code",
   "execution_count": null,
   "metadata": {},
   "outputs": [],
   "source": []
  },
  {
   "cell_type": "code",
   "execution_count": null,
   "metadata": {},
   "outputs": [],
   "source": []
  },
  {
   "cell_type": "code",
   "execution_count": null,
   "metadata": {},
   "outputs": [],
   "source": []
  },
  {
   "cell_type": "code",
   "execution_count": null,
   "metadata": {},
   "outputs": [],
   "source": []
  },
  {
   "cell_type": "code",
   "execution_count": null,
   "metadata": {},
   "outputs": [],
   "source": []
  },
  {
   "cell_type": "code",
   "execution_count": null,
   "metadata": {},
   "outputs": [],
   "source": []
  },
  {
   "cell_type": "code",
   "execution_count": null,
   "metadata": {},
   "outputs": [],
   "source": []
  },
  {
   "cell_type": "code",
   "execution_count": null,
   "metadata": {},
   "outputs": [],
   "source": []
  },
  {
   "cell_type": "code",
   "execution_count": null,
   "metadata": {},
   "outputs": [],
   "source": []
  },
  {
   "cell_type": "code",
   "execution_count": null,
   "metadata": {},
   "outputs": [],
   "source": []
  },
  {
   "cell_type": "code",
   "execution_count": null,
   "metadata": {},
   "outputs": [],
   "source": []
  },
  {
   "cell_type": "code",
   "execution_count": null,
   "metadata": {},
   "outputs": [],
   "source": []
  }
 ],
 "metadata": {
  "kernelspec": {
   "display_name": "Python 3",
   "language": "python",
   "name": "python3"
  },
  "language_info": {
   "codemirror_mode": {
    "name": "ipython",
    "version": 3
   },
   "file_extension": ".py",
   "mimetype": "text/x-python",
   "name": "python",
   "nbconvert_exporter": "python",
   "pygments_lexer": "ipython3",
   "version": "3.7.0"
  }
 },
 "nbformat": 4,
 "nbformat_minor": 2
}
