{
 "cells": [
  {
   "cell_type": "code",
   "execution_count": 215,
   "metadata": {},
   "outputs": [],
   "source": [
    "import random\n",
    "import copy\n",
    "import math\n",
    "string = \"\"\"1\n",
    "10\n",
    "1 5 0 7 2 7 3 7 3 8 0 8\n",
    "2 9 2 0 3 0 3 7 2 7 2 6 2 5 2 4 2 2 2 1 \n",
    "3 5 0 6 1 6 2 6 2 7 0 7 \n",
    "4 4 1 5 2 5 2 6 1 6 \n",
    "5 4 1 4 2 4 2 5 1 5 \n",
    "6 5 1 2 2 2 2 4 1 4 1 3 \n",
    "7 6 0 3 1 3 1 4 1 5 1 6 0 6 \n",
    "8 4 0 2 1 2 1 3 0 3 \n",
    "9 5 0 1 2 1 2 2 1 2 0 2 \n",
    "10 4 0 0 2 0 2 1 0 1\"\"\"\n",
    "\n",
    "def convert(string): #dicionario em q keys são retangulos e values vertices\n",
    "    ret = {}\n",
    "    for line in string.split('\\n')[2:]:\n",
    "        elements = list(map(int, line.split()))\n",
    "        ret[elements[0]] = [(elements[i], elements[i + 1]) for i in range(2, elements[1] * 2 + 1, 2)]\n",
    "    return ret\n",
    "\n",
    "def encode(data): #id individual aos vértices\n",
    "    return {v : k for k, v in dict(enumerate(set(sum(data.values(), [])))).items()}\n",
    "\n",
    "def reverse_dict(data, encoding): #dicionario com vertices como key\n",
    "    ret = {}\n",
    "    for k, V in data.items():\n",
    "        for v in V:\n",
    "            lookup = encoding[v]\n",
    "            if lookup not in ret:\n",
    "                ret[lookup] = []\n",
    "            ret[lookup] += [k]\n",
    "    return ret\n",
    "\n",
    "\n",
    "initial  = convert(string)\n",
    "encoding = encode(initial) #id de cada vértice\n",
    "data     = reverse_dict(initial, encoding)\n",
    "\n",
    "m = (max(data.values()))[0] #nr of rectangles\n",
    "guards = [0] * m #to check if all rect are covered\n",
    "#Greedy\n",
    "def GetMaxLen(data): \n",
    "    return max((len(v) for v in data.values()))\n",
    "\n",
    "def DeleteV(dic, vertice): #remove already guarded rectangles\n",
    "    copia = copy.deepcopy(dic)\n",
    "    vertexR = copia.get(vertice)\n",
    "    del copia[vertice]\n",
    "    for v in copia.values():\n",
    "        for r in vertexR:\n",
    "            if r in v:\n",
    "                v.remove(r)\n",
    "    return copia\n",
    "\n",
    "def Greedy(dic, guards, G, seed, func1, func2):\n",
    "    copia = copy.deepcopy(dic)\n",
    "    guardscp = copy.deepcopy(guards)\n",
    "    Gcp = copy.deepcopy(G)\n",
    "    while sum(guardscp) != m:\n",
    "        maxlen = func1(copia)\n",
    "        vertices = [] #opções que vêem mais vertices não guardados\n",
    "        for v, r in copia.items():\n",
    "            if len(r) == maxlen:\n",
    "                vertices.append(v)\n",
    "        random.seed(seed)\n",
    "        guard = random.choice(vertices)\n",
    "        Gcp += [dict(enumerate(set(sum(initial.values(), []))))[guard]] #para retornar as coordenadas\n",
    "        for r in copia.get(guard):\n",
    "            guardscp[r-1] = 1\n",
    "        copia = func2(copia, guard)    \n",
    "    return Gcp\n",
    "\n",
    "GreedyA = Greedy(data, guards, [], None, GetMaxLen, DeleteV)"
   ]
  },
  {
   "cell_type": "code",
   "execution_count": 208,
   "metadata": {},
   "outputs": [
    {
     "name": "stdout",
     "output_type": "stream",
     "text": [
      "[(2, 5), (1, 3), (2, 1), (0, 7)]\n"
     ]
    }
   ],
   "source": [
    "print(GreedyA)"
   ]
  },
  {
   "cell_type": "code",
   "execution_count": 164,
   "metadata": {},
   "outputs": [
    {
     "name": "stdout",
     "output_type": "stream",
     "text": [
      "{3: [1, 3], 16: [1, 2, 3], 6: [1, 2], 18: [1], 15: [1], 19: [2, 10], 1: [2], 12: [2, 3, 4], 7: [2, 4, 5], 21: [2, 5, 6], 11: [2, 6, 9], 4: [2, 9, 10], 20: [3, 7], 5: [3, 4, 7], 10: [4, 5, 7], 14: [5, 6, 7], 9: [6, 8, 9], 0: [6, 7, 8], 8: [7, 8], 2: [8, 9], 17: [9, 10], 13: [10]}\n"
     ]
    }
   ],
   "source": [
    "print(data)"
   ]
  },
  {
   "cell_type": "code",
   "execution_count": 165,
   "metadata": {},
   "outputs": [
    {
     "name": "stdout",
     "output_type": "stream",
     "text": [
      "{(1, 3): 0, (3, 0): 1, (0, 2): 2, (0, 7): 3, (2, 1): 4, (1, 6): 5, (3, 7): 6, (2, 5): 7, (0, 3): 8, (1, 2): 9, (1, 5): 10, (2, 2): 11, (2, 6): 12, (0, 0): 13, (1, 4): 14, (0, 8): 15, (2, 7): 16, (0, 1): 17, (3, 8): 18, (2, 0): 19, (0, 6): 20, (2, 4): 21}\n"
     ]
    }
   ],
   "source": [
    "print(encoding)"
   ]
  },
  {
   "cell_type": "code",
   "execution_count": 166,
   "metadata": {},
   "outputs": [
    {
     "name": "stdout",
     "output_type": "stream",
     "text": [
      "{1: [(0, 7), (2, 7), (3, 7), (3, 8), (0, 8)], 2: [(2, 0), (3, 0), (3, 7), (2, 7), (2, 6), (2, 5), (2, 4), (2, 2), (2, 1)], 3: [(0, 6), (1, 6), (2, 6), (2, 7), (0, 7)], 4: [(1, 5), (2, 5), (2, 6), (1, 6)], 5: [(1, 4), (2, 4), (2, 5), (1, 5)], 6: [(1, 2), (2, 2), (2, 4), (1, 4), (1, 3)], 7: [(0, 3), (1, 3), (1, 4), (1, 5), (1, 6), (0, 6)], 8: [(0, 2), (1, 2), (1, 3), (0, 3)], 9: [(0, 1), (2, 1), (2, 2), (1, 2), (0, 2)], 10: [(0, 0), (2, 0), (2, 1), (0, 1)]}\n"
     ]
    }
   ],
   "source": [
    "print(initial)"
   ]
  },
  {
   "cell_type": "code",
   "execution_count": 171,
   "metadata": {},
   "outputs": [
    {
     "name": "stdout",
     "output_type": "stream",
     "text": [
      "[0, 0, 0, 0, 0, 0, 0, 0, 0, 0]\n"
     ]
    }
   ],
   "source": [
    "print(guards)"
   ]
  },
  {
   "cell_type": "code",
   "execution_count": 216,
   "metadata": {},
   "outputs": [],
   "source": [
    "#Iterated local search - hill climbing\n",
    "\n",
    "def SimpleHillClimbing(GreedySol, func1, func2, func3, func4):\n",
    "    current_state = copy.deepcopy(GreedySol)\n",
    "    optimalg = math.ceil(m/3) #optimal number of guards\n",
    "    count = 0\n",
    "    while True:\n",
    "        if len(current_state) == optimalg:\n",
    "            break\n",
    "        elif count > 100:\n",
    "            break\n",
    "        else:\n",
    "            neighbor_states = func1(current_state, data, guards, func2, func3, func4)\n",
    "            count += 1\n",
    "            best_state = neighbor_states[0]\n",
    "            for state in neighbor_states:\n",
    "                if len(state) < len(best_state):\n",
    "                    best_state = state\n",
    "            if len(best_state) < len(current_state) :\n",
    "                current_state = best_state\n",
    "    return current_state\n",
    "\n",
    "def RandomizedHillClimbing(GreedySol, func1, func2, func3, func4, func5):\n",
    "    current_state = copy.deepcopy(GreedySol)\n",
    "    optimalg = math.ceil(m/3) #optimal number of guards\n",
    "    count = 0\n",
    "    while True:\n",
    "        if len(current_state) == optimalg:\n",
    "            break\n",
    "        elif count > 100:\n",
    "            break\n",
    "        else:\n",
    "            neighbor_states = func1(current_state, data, guards, func3, func4, func5)\n",
    "            count += 1\n",
    "            current_state = func2(neighbor_states)\n",
    "    return current_state\n",
    "\n",
    "def distributedProbability(neighbor_states):\n",
    "    new_neighbor_states = []\n",
    "    neighbor_states.sort(key=len)\n",
    "    for i in range(len(neighbor_states)):\n",
    "        new_neighbor_states.extend([neighbor_states[i]] * (len(neighbor_states) - i))\n",
    "    return new_neighbor_states[random.randint(0, len(new_neighbor_states) - 1)]\n",
    "\n",
    "#Simulated Annealing\n",
    "\n",
    "def SimulatedAnnealing(GreedySol, func1, func2, func3, func4, func5):\n",
    "    current_state = copy.deepcopy(GreedySol)\n",
    "    optimalg = math.ceil(m/3) #optimal number of guards\n",
    "    t = 1.0\n",
    "    k = 0.995\n",
    "    while t > 0.001:\n",
    "        if len(current_state) == optimalg:\n",
    "            break\n",
    "        neighbor_states = func1(current_state, data, guards, func3, func4, func5)\n",
    "        proposed_state = random.choice(neighbor_states)\n",
    "        r = random.uniform(0,1)\n",
    "        p = func2(proposed_state, current_state, t)\n",
    "        if p >= r:\n",
    "            current_state = proposed_state\n",
    "        t = t * k\n",
    "    return current_state\n",
    "        \n",
    "\n",
    "def prob(neighbor_state, current_state, t): #acceptance probability function\n",
    "    if len(neighbor_state) < len(current_state):\n",
    "        prob = 1\n",
    "    else:\n",
    "        prob = math.exp(float(-(len(neighbor_state) - len(current_state)) / t))\n",
    "    return prob\n",
    "\n",
    "#Neighbor States\n",
    "\n",
    "# def NeighborStates1(state, dic, guards, func1, func2, func3): #gives lists 3 vertexes short of optimal answers and runs it through greedy\n",
    "#     start = math.ceil(m/3) - 3 \n",
    "#     temp_state = state[:start]\n",
    "#     iteration = 10 # max number of neighbors\n",
    "#     copia = copy.deepcopy(dic)\n",
    "#     guardscopy = copy.deepcopy(guards)\n",
    "#     NS = []\n",
    "#     S = []\n",
    "#     for v in temp_state:\n",
    "#         idV = encoding[v]\n",
    "#         for r in copia.get(idV):\n",
    "#             guardscopy[r-1] = 1\n",
    "#         copia = func1(copia, idV)\n",
    "#     for i in range(iteration):\n",
    "#         S = func2(copia, guardscopy, temp_state, i, func3, func1)\n",
    "#         if S not in NS:\n",
    "#             NS.append(S)\n",
    "#     if len(NS) < iteration: #tenta encontrar novas soluções \n",
    "#         dif = iteration - len(NS)\n",
    "#         for j in range(dif):\n",
    "#             S = func2(copia, guardscopy, temp_state, (iteration + j), func3, func1)\n",
    "#             if S not in NS:\n",
    "#                 NS.append(S)\n",
    "#     return NS\n",
    "\n",
    "def NeighborStates(state, dic, guards, func1, func2, func3): #gives lists 3 vertexes short of optimal answers and runs it through greedy\n",
    "    start = math.ceil(m/3) - 3 \n",
    "    temp_state = random.sample(state, start)\n",
    "    iteration = 10 # max number of neighbors\n",
    "    copia = copy.deepcopy(dic)\n",
    "    guardscopy = copy.deepcopy(guards)\n",
    "    NS = []\n",
    "    S = []\n",
    "    for v in temp_state:\n",
    "        idV = encoding[v]\n",
    "        for r in copia.get(idV):\n",
    "            guardscopy[r-1] = 1\n",
    "        copia = func1(copia, idV)\n",
    "    for i in range(iteration):\n",
    "        S = func2(copia, guardscopy, temp_state, i, func3, func1)\n",
    "        S.sort()\n",
    "        if S not in NS:\n",
    "            NS.append(S)\n",
    "    if len(NS) < iteration: #tenta encontrar novas soluções vizinhas \n",
    "        dif = iteration - len(NS)\n",
    "        for j in range(dif):\n",
    "            S = func2(copia, guardscopy, temp_state, (iteration + j), func3, func1)\n",
    "            S.sort()\n",
    "            if S not in NS:\n",
    "                NS.append(S)\n",
    "    return NS\n",
    "\n",
    "neighborstates = NeighborStates(GreedyA, data, guards, DeleteV, Greedy, GetMaxLen)\n",
    "HillClimbing = SimpleHillClimbing(GreedyA, NeighborStates, DeleteV, Greedy, GetMaxLen)\n",
    "RandHillClimbing = RandomizedHillClimbing(GreedyA, NeighborStates, distributedProbability, DeleteV, Greedy, GetMaxLen)\n",
    "SimAnneal = SimulatedAnnealing(GreedyA, NeighborStates, prob, DeleteV, Greedy, GetMaxLen)"
   ]
  },
  {
   "cell_type": "code",
   "execution_count": 217,
   "metadata": {},
   "outputs": [
    {
     "name": "stdout",
     "output_type": "stream",
     "text": [
      "[[(0, 1), (1, 3), (2, 5), (2, 7)], [(0, 6), (1, 2), (2, 1), (2, 5), (2, 7)], [(0, 6), (0, 7), (1, 2), (2, 0), (2, 5)], [(1, 2), (1, 6), (2, 1), (2, 5), (2, 7)], [(1, 3), (2, 1), (2, 5), (2, 7)], [(0, 0), (0, 7), (1, 2), (1, 3), (2, 5)]]\n"
     ]
    }
   ],
   "source": [
    "print(neighborstates)"
   ]
  },
  {
   "cell_type": "code",
   "execution_count": 218,
   "metadata": {},
   "outputs": [
    {
     "name": "stdout",
     "output_type": "stream",
     "text": [
      "[(0, 6), (0, 7), (1, 2), (2, 0), (2, 5)]\n"
     ]
    }
   ],
   "source": [
    "print(SimAnneal)"
   ]
  },
  {
   "cell_type": "code",
   "execution_count": null,
   "metadata": {},
   "outputs": [],
   "source": []
  },
  {
   "cell_type": "code",
   "execution_count": 219,
   "metadata": {},
   "outputs": [
    {
     "name": "stdout",
     "output_type": "stream",
     "text": [
      "[(1, 3), (2, 1), (2, 5), (2, 7)]\n"
     ]
    }
   ],
   "source": [
    "print(RandHillClimbing)"
   ]
  },
  {
   "cell_type": "code",
   "execution_count": 220,
   "metadata": {},
   "outputs": [
    {
     "name": "stdout",
     "output_type": "stream",
     "text": [
      "[(0, 1), (0, 7), (1, 3), (2, 5)]\n"
     ]
    }
   ],
   "source": [
    "print(HillClimbing)"
   ]
  },
  {
   "cell_type": "code",
   "execution_count": 221,
   "metadata": {},
   "outputs": [],
   "source": [
    "newdic ={16: [4,5,7]}"
   ]
  },
  {
   "cell_type": "code",
   "execution_count": 222,
   "metadata": {},
   "outputs": [
    {
     "name": "stdout",
     "output_type": "stream",
     "text": [
      "3\n"
     ]
    }
   ],
   "source": [
    "print(GetMaxLen(newdic))"
   ]
  },
  {
   "cell_type": "code",
   "execution_count": null,
   "metadata": {},
   "outputs": [],
   "source": []
  },
  {
   "cell_type": "code",
   "execution_count": null,
   "metadata": {},
   "outputs": [],
   "source": []
  }
 ],
 "metadata": {
  "kernelspec": {
   "display_name": "Python 3",
   "language": "python",
   "name": "python3"
  },
  "language_info": {
   "codemirror_mode": {
    "name": "ipython",
    "version": 3
   },
   "file_extension": ".py",
   "mimetype": "text/x-python",
   "name": "python",
   "nbconvert_exporter": "python",
   "pygments_lexer": "ipython3",
   "version": "3.7.0"
  }
 },
 "nbformat": 4,
 "nbformat_minor": 2
}
